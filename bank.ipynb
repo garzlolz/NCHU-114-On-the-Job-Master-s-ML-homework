{
 "cells": [
  {
   "cell_type": "code",
   "execution_count": 1,
   "id": "a9b78fb7",
   "metadata": {},
   "outputs": [],
   "source": [
    "import pandas as pd\n",
    "import numpy as np\n"
   ]
  },
  {
   "cell_type": "code",
   "execution_count": 8,
   "id": "bb9a30f0",
   "metadata": {},
   "outputs": [
    {
     "name": "stdout",
     "output_type": "stream",
     "text": [
      "  age;\"job\";\"marital\";\"education\";\"default\";\"balance\";\"housing\";\"loan\";\"contact\";\"day\";\"month\";\"duration\";\"campaign\";\"pdays\";\"previous\";\"poutcome\";\"y\"\n",
      "0  30;\"unemployed\";\"married\";\"primary\";\"no\";1787;...                                                                                                  \n",
      "1  33;\"services\";\"married\";\"secondary\";\"no\";4789;...                                                                                                  \n",
      "2  35;\"management\";\"single\";\"tertiary\";\"no\";1350;...                                                                                                  \n",
      "3  30;\"management\";\"married\";\"tertiary\";\"no\";1476...                                                                                                  \n",
      "4  59;\"blue-collar\";\"married\";\"secondary\";\"no\";0;...                                                                                                  \n"
     ]
    }
   ],
   "source": [
    "data = pd.read_csv('bank/bank.csv')\n",
    "print(data.head())"
   ]
  }
 ],
 "metadata": {
  "kernelspec": {
   "display_name": "ml_hw_conda",
   "language": "python",
   "name": "python3"
  },
  "language_info": {
   "codemirror_mode": {
    "name": "ipython",
    "version": 3
   },
   "file_extension": ".py",
   "mimetype": "text/x-python",
   "name": "python",
   "nbconvert_exporter": "python",
   "pygments_lexer": "ipython3",
   "version": "3.13.7"
  }
 },
 "nbformat": 4,
 "nbformat_minor": 5
}
