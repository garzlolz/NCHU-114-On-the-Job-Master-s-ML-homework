{
 "cells": [
  {
   "cell_type": "markdown",
   "id": "a2741c1d",
   "metadata": {},
   "source": [
    "### 題目\n",
    "    由課本的技巧來選擇feature進行，以 Bank 為範例進行資料前處理，整理後的資料，以 CSV 的格式輸出，處理之後的資料集，以 linear regression （至少包含線性以及非線性的兩種機制）進行預測。\n",
    " "
   ]
  },
  {
   "cell_type": "code",
   "execution_count": 516,
   "id": "6a67d691",
   "metadata": {},
   "outputs": [
    {
     "name": "stdout",
     "output_type": "stream",
     "text": [
      "資料集大小: (45211, 17) \n",
      "\n",
      "欄位: ['age', 'job', 'marital', 'education', 'default', 'balance', 'housing', 'loan', 'contact', 'day', 'month', 'duration', 'campaign', 'pdays', 'previous', 'poutcome', 'y'] \n",
      "\n",
      "   age           job  marital  education default  balance housing loan  \\\n",
      "0   58    management  married   tertiary      no     2143     yes   no   \n",
      "1   44    technician   single  secondary      no       29     yes   no   \n",
      "2   33  entrepreneur  married  secondary      no        2     yes  yes   \n",
      "3   47   blue-collar  married    unknown      no     1506     yes   no   \n",
      "4   33       unknown   single    unknown      no        1      no   no   \n",
      "\n",
      "   contact  day month  duration  campaign  pdays  previous poutcome   y  \n",
      "0  unknown    5   may       261         1     -1         0  unknown  no  \n",
      "1  unknown    5   may       151         1     -1         0  unknown  no  \n",
      "2  unknown    5   may        76         1     -1         0  unknown  no  \n",
      "3  unknown    5   may        92         1     -1         0  unknown  no  \n",
      "4  unknown    5   may       198         1     -1         0  unknown  no   \n",
      "\n",
      "Null Data:\n",
      " job            288\n",
      "education     1857\n",
      "contact      13020\n",
      "poutcome     36959\n",
      "dtype: int64\n"
     ]
    }
   ],
   "source": [
    "import pandas as pd\n",
    "import numpy as np\n",
    "import warnings\n",
    "\n",
    "warnings.filterwarnings(\"ignore\", category=FutureWarning)\n",
    "\n",
    "data = pd.read_csv(\"../../data/bank/bank-full.csv\", sep=\";\", header=\"infer\")\n",
    "print(\"資料集大小:\", data.shape, \"\\n\")\n",
    "print(\"欄位:\", data.columns.tolist(), \"\\n\")\n",
    "print(data.head(), \"\\n\")\n",
    "\n",
    "# 處理 'unknown' 的值\n",
    "data.replace(\"unknown\", np.nan, inplace=True)\n",
    "null_counts = data.isnull().sum()\n",
    "print(\"Null Data:\\n\", null_counts[null_counts > 0])"
   ]
  },
  {
   "cell_type": "markdown",
   "id": "10238494",
   "metadata": {},
   "source": [
    "### 處理二元類別資料"
   ]
  },
  {
   "cell_type": "code",
   "execution_count": 517,
   "id": "a1ef09b1",
   "metadata": {},
   "outputs": [],
   "source": [
    "## 處理二元類別資料\n",
    "data.y =  data.y.map({'yes':1, 'no':0})\n",
    "data.default = data.default.map({'yes':1, 'no':0})\n",
    "data.housing = data.housing.map({'yes':1, 'no':0})\n",
    "data.loan = data.loan.map({'yes':1, 'no':0})"
   ]
  },
  {
   "cell_type": "markdown",
   "id": "b78e6e63",
   "metadata": {},
   "source": [
    "### 處理 Unknown 欄位，分離x跟y"
   ]
  },
  {
   "cell_type": "code",
   "execution_count": 518,
   "id": "3d2df703",
   "metadata": {},
   "outputs": [
    {
     "data": {
      "text/html": [
       "<div>\n",
       "<style scoped>\n",
       "    .dataframe tbody tr th:only-of-type {\n",
       "        vertical-align: middle;\n",
       "    }\n",
       "\n",
       "    .dataframe tbody tr th {\n",
       "        vertical-align: top;\n",
       "    }\n",
       "\n",
       "    .dataframe thead th {\n",
       "        text-align: right;\n",
       "    }\n",
       "</style>\n",
       "<table border=\"1\" class=\"dataframe\">\n",
       "  <thead>\n",
       "    <tr style=\"text-align: right;\">\n",
       "      <th></th>\n",
       "      <th>age</th>\n",
       "      <th>job</th>\n",
       "      <th>marital</th>\n",
       "      <th>education</th>\n",
       "      <th>default</th>\n",
       "      <th>balance</th>\n",
       "      <th>housing</th>\n",
       "      <th>loan</th>\n",
       "      <th>contact</th>\n",
       "      <th>day</th>\n",
       "      <th>month</th>\n",
       "      <th>duration</th>\n",
       "      <th>campaign</th>\n",
       "      <th>pdays</th>\n",
       "      <th>previous</th>\n",
       "      <th>poutcome</th>\n",
       "    </tr>\n",
       "  </thead>\n",
       "  <tbody>\n",
       "    <tr>\n",
       "      <th>0</th>\n",
       "      <td>58</td>\n",
       "      <td>management</td>\n",
       "      <td>married</td>\n",
       "      <td>tertiary</td>\n",
       "      <td>0</td>\n",
       "      <td>2143</td>\n",
       "      <td>1</td>\n",
       "      <td>0</td>\n",
       "      <td>cellular</td>\n",
       "      <td>5</td>\n",
       "      <td>may</td>\n",
       "      <td>261</td>\n",
       "      <td>1</td>\n",
       "      <td>-1</td>\n",
       "      <td>0</td>\n",
       "      <td>NaN</td>\n",
       "    </tr>\n",
       "    <tr>\n",
       "      <th>1</th>\n",
       "      <td>44</td>\n",
       "      <td>technician</td>\n",
       "      <td>single</td>\n",
       "      <td>secondary</td>\n",
       "      <td>0</td>\n",
       "      <td>29</td>\n",
       "      <td>1</td>\n",
       "      <td>0</td>\n",
       "      <td>cellular</td>\n",
       "      <td>5</td>\n",
       "      <td>may</td>\n",
       "      <td>151</td>\n",
       "      <td>1</td>\n",
       "      <td>-1</td>\n",
       "      <td>0</td>\n",
       "      <td>NaN</td>\n",
       "    </tr>\n",
       "    <tr>\n",
       "      <th>2</th>\n",
       "      <td>33</td>\n",
       "      <td>entrepreneur</td>\n",
       "      <td>married</td>\n",
       "      <td>secondary</td>\n",
       "      <td>0</td>\n",
       "      <td>2</td>\n",
       "      <td>1</td>\n",
       "      <td>1</td>\n",
       "      <td>cellular</td>\n",
       "      <td>5</td>\n",
       "      <td>may</td>\n",
       "      <td>76</td>\n",
       "      <td>1</td>\n",
       "      <td>-1</td>\n",
       "      <td>0</td>\n",
       "      <td>NaN</td>\n",
       "    </tr>\n",
       "    <tr>\n",
       "      <th>3</th>\n",
       "      <td>47</td>\n",
       "      <td>blue-collar</td>\n",
       "      <td>married</td>\n",
       "      <td>secondary</td>\n",
       "      <td>0</td>\n",
       "      <td>1506</td>\n",
       "      <td>1</td>\n",
       "      <td>0</td>\n",
       "      <td>cellular</td>\n",
       "      <td>5</td>\n",
       "      <td>may</td>\n",
       "      <td>92</td>\n",
       "      <td>1</td>\n",
       "      <td>-1</td>\n",
       "      <td>0</td>\n",
       "      <td>NaN</td>\n",
       "    </tr>\n",
       "    <tr>\n",
       "      <th>4</th>\n",
       "      <td>33</td>\n",
       "      <td>blue-collar</td>\n",
       "      <td>single</td>\n",
       "      <td>secondary</td>\n",
       "      <td>0</td>\n",
       "      <td>1</td>\n",
       "      <td>0</td>\n",
       "      <td>0</td>\n",
       "      <td>cellular</td>\n",
       "      <td>5</td>\n",
       "      <td>may</td>\n",
       "      <td>198</td>\n",
       "      <td>1</td>\n",
       "      <td>-1</td>\n",
       "      <td>0</td>\n",
       "      <td>NaN</td>\n",
       "    </tr>\n",
       "  </tbody>\n",
       "</table>\n",
       "</div>"
      ],
      "text/plain": [
       "   age           job  marital  education  default  balance  housing  loan  \\\n",
       "0   58    management  married   tertiary        0     2143        1     0   \n",
       "1   44    technician   single  secondary        0       29        1     0   \n",
       "2   33  entrepreneur  married  secondary        0        2        1     1   \n",
       "3   47   blue-collar  married  secondary        0     1506        1     0   \n",
       "4   33   blue-collar   single  secondary        0        1        0     0   \n",
       "\n",
       "    contact  day month  duration  campaign  pdays  previous poutcome  \n",
       "0  cellular    5   may       261         1     -1         0      NaN  \n",
       "1  cellular    5   may       151         1     -1         0      NaN  \n",
       "2  cellular    5   may        76         1     -1         0      NaN  \n",
       "3  cellular    5   may        92         1     -1         0      NaN  \n",
       "4  cellular    5   may       198         1     -1         0      NaN  "
      ]
     },
     "execution_count": 518,
     "metadata": {},
     "output_type": "execute_result"
    }
   ],
   "source": [
    "# 處理 'unknown' 值欄位\n",
    "# job, education 以眾數、平均數取代 'unknown' 值, poutcome 因 unknown 筆數很多，將 uknown 視為一類別\n",
    "from sklearn.impute import SimpleImputer\n",
    "\n",
    "imp = SimpleImputer(strategy=\"most_frequent\")\n",
    "\n",
    "# 要用眾數填補的欄位\n",
    "nan_columns = ['job', 'education', 'contact']\n",
    "data[nan_columns] = imp.fit_transform(data[nan_columns])\n",
    "\n",
    "# 分離 X 跟 y\n",
    "X = data.drop(columns=['y'])\n",
    "y = data.y\n",
    "\n",
    "X.head()"
   ]
  },
  {
   "cell_type": "markdown",
   "id": "27ca513a",
   "metadata": {},
   "source": [
    "### 排除具有時序性的欄位"
   ]
  },
  {
   "cell_type": "code",
   "execution_count": 519,
   "id": "51ecd203",
   "metadata": {},
   "outputs": [
    {
     "name": "stdout",
     "output_type": "stream",
     "text": [
      "['age', 'job', 'marital', 'education', 'default', 'balance', 'housing', 'loan', 'contact', 'campaign', 'previous', 'poutcome']\n"
     ]
    },
    {
     "data": {
      "text/html": [
       "<div>\n",
       "<style scoped>\n",
       "    .dataframe tbody tr th:only-of-type {\n",
       "        vertical-align: middle;\n",
       "    }\n",
       "\n",
       "    .dataframe tbody tr th {\n",
       "        vertical-align: top;\n",
       "    }\n",
       "\n",
       "    .dataframe thead th {\n",
       "        text-align: right;\n",
       "    }\n",
       "</style>\n",
       "<table border=\"1\" class=\"dataframe\">\n",
       "  <thead>\n",
       "    <tr style=\"text-align: right;\">\n",
       "      <th></th>\n",
       "      <th>age</th>\n",
       "      <th>job</th>\n",
       "      <th>marital</th>\n",
       "      <th>education</th>\n",
       "      <th>default</th>\n",
       "      <th>balance</th>\n",
       "      <th>housing</th>\n",
       "      <th>loan</th>\n",
       "      <th>contact</th>\n",
       "      <th>campaign</th>\n",
       "      <th>previous</th>\n",
       "      <th>poutcome</th>\n",
       "    </tr>\n",
       "  </thead>\n",
       "  <tbody>\n",
       "    <tr>\n",
       "      <th>0</th>\n",
       "      <td>58</td>\n",
       "      <td>management</td>\n",
       "      <td>married</td>\n",
       "      <td>tertiary</td>\n",
       "      <td>0</td>\n",
       "      <td>2143</td>\n",
       "      <td>1</td>\n",
       "      <td>0</td>\n",
       "      <td>cellular</td>\n",
       "      <td>1</td>\n",
       "      <td>0</td>\n",
       "      <td>NaN</td>\n",
       "    </tr>\n",
       "    <tr>\n",
       "      <th>1</th>\n",
       "      <td>44</td>\n",
       "      <td>technician</td>\n",
       "      <td>single</td>\n",
       "      <td>secondary</td>\n",
       "      <td>0</td>\n",
       "      <td>29</td>\n",
       "      <td>1</td>\n",
       "      <td>0</td>\n",
       "      <td>cellular</td>\n",
       "      <td>1</td>\n",
       "      <td>0</td>\n",
       "      <td>NaN</td>\n",
       "    </tr>\n",
       "    <tr>\n",
       "      <th>2</th>\n",
       "      <td>33</td>\n",
       "      <td>entrepreneur</td>\n",
       "      <td>married</td>\n",
       "      <td>secondary</td>\n",
       "      <td>0</td>\n",
       "      <td>2</td>\n",
       "      <td>1</td>\n",
       "      <td>1</td>\n",
       "      <td>cellular</td>\n",
       "      <td>1</td>\n",
       "      <td>0</td>\n",
       "      <td>NaN</td>\n",
       "    </tr>\n",
       "    <tr>\n",
       "      <th>3</th>\n",
       "      <td>47</td>\n",
       "      <td>blue-collar</td>\n",
       "      <td>married</td>\n",
       "      <td>secondary</td>\n",
       "      <td>0</td>\n",
       "      <td>1506</td>\n",
       "      <td>1</td>\n",
       "      <td>0</td>\n",
       "      <td>cellular</td>\n",
       "      <td>1</td>\n",
       "      <td>0</td>\n",
       "      <td>NaN</td>\n",
       "    </tr>\n",
       "    <tr>\n",
       "      <th>4</th>\n",
       "      <td>33</td>\n",
       "      <td>blue-collar</td>\n",
       "      <td>single</td>\n",
       "      <td>secondary</td>\n",
       "      <td>0</td>\n",
       "      <td>1</td>\n",
       "      <td>0</td>\n",
       "      <td>0</td>\n",
       "      <td>cellular</td>\n",
       "      <td>1</td>\n",
       "      <td>0</td>\n",
       "      <td>NaN</td>\n",
       "    </tr>\n",
       "  </tbody>\n",
       "</table>\n",
       "</div>"
      ],
      "text/plain": [
       "   age           job  marital  education  default  balance  housing  loan  \\\n",
       "0   58    management  married   tertiary        0     2143        1     0   \n",
       "1   44    technician   single  secondary        0       29        1     0   \n",
       "2   33  entrepreneur  married  secondary        0        2        1     1   \n",
       "3   47   blue-collar  married  secondary        0     1506        1     0   \n",
       "4   33   blue-collar   single  secondary        0        1        0     0   \n",
       "\n",
       "    contact  campaign  previous poutcome  \n",
       "0  cellular         1         0      NaN  \n",
       "1  cellular         1         0      NaN  \n",
       "2  cellular         1         0      NaN  \n",
       "3  cellular         1         0      NaN  \n",
       "4  cellular         1         0      NaN  "
      ]
     },
     "execution_count": 519,
     "metadata": {},
     "output_type": "execute_result"
    }
   ],
   "source": [
    "X.drop(columns=[\"duration\", \"month\", \"day\", \"pdays\"], axis=1, inplace=True)\n",
    "print(X.columns.tolist())\n",
    "X.head()"
   ]
  },
  {
   "cell_type": "markdown",
   "id": "7a20be6a",
   "metadata": {},
   "source": [
    "### One-Hot Encoding"
   ]
  },
  {
   "cell_type": "code",
   "execution_count": 520,
   "id": "2f0212cd",
   "metadata": {},
   "outputs": [
    {
     "data": {
      "text/html": [
       "<div>\n",
       "<style scoped>\n",
       "    .dataframe tbody tr th:only-of-type {\n",
       "        vertical-align: middle;\n",
       "    }\n",
       "\n",
       "    .dataframe tbody tr th {\n",
       "        vertical-align: top;\n",
       "    }\n",
       "\n",
       "    .dataframe thead th {\n",
       "        text-align: right;\n",
       "    }\n",
       "</style>\n",
       "<table border=\"1\" class=\"dataframe\">\n",
       "  <thead>\n",
       "    <tr style=\"text-align: right;\">\n",
       "      <th></th>\n",
       "      <th>age</th>\n",
       "      <th>job</th>\n",
       "      <th>marital</th>\n",
       "      <th>education</th>\n",
       "      <th>default</th>\n",
       "      <th>balance</th>\n",
       "      <th>housing</th>\n",
       "      <th>loan</th>\n",
       "      <th>contact</th>\n",
       "      <th>campaign</th>\n",
       "      <th>previous</th>\n",
       "      <th>poutcome</th>\n",
       "    </tr>\n",
       "  </thead>\n",
       "  <tbody>\n",
       "    <tr>\n",
       "      <th>0</th>\n",
       "      <td>58</td>\n",
       "      <td>4</td>\n",
       "      <td>1</td>\n",
       "      <td>2</td>\n",
       "      <td>0</td>\n",
       "      <td>2143</td>\n",
       "      <td>1</td>\n",
       "      <td>0</td>\n",
       "      <td>0</td>\n",
       "      <td>1</td>\n",
       "      <td>0</td>\n",
       "      <td>3</td>\n",
       "    </tr>\n",
       "    <tr>\n",
       "      <th>1</th>\n",
       "      <td>44</td>\n",
       "      <td>9</td>\n",
       "      <td>2</td>\n",
       "      <td>1</td>\n",
       "      <td>0</td>\n",
       "      <td>29</td>\n",
       "      <td>1</td>\n",
       "      <td>0</td>\n",
       "      <td>0</td>\n",
       "      <td>1</td>\n",
       "      <td>0</td>\n",
       "      <td>3</td>\n",
       "    </tr>\n",
       "    <tr>\n",
       "      <th>2</th>\n",
       "      <td>33</td>\n",
       "      <td>2</td>\n",
       "      <td>1</td>\n",
       "      <td>1</td>\n",
       "      <td>0</td>\n",
       "      <td>2</td>\n",
       "      <td>1</td>\n",
       "      <td>1</td>\n",
       "      <td>0</td>\n",
       "      <td>1</td>\n",
       "      <td>0</td>\n",
       "      <td>3</td>\n",
       "    </tr>\n",
       "    <tr>\n",
       "      <th>3</th>\n",
       "      <td>47</td>\n",
       "      <td>1</td>\n",
       "      <td>1</td>\n",
       "      <td>1</td>\n",
       "      <td>0</td>\n",
       "      <td>1506</td>\n",
       "      <td>1</td>\n",
       "      <td>0</td>\n",
       "      <td>0</td>\n",
       "      <td>1</td>\n",
       "      <td>0</td>\n",
       "      <td>3</td>\n",
       "    </tr>\n",
       "    <tr>\n",
       "      <th>4</th>\n",
       "      <td>33</td>\n",
       "      <td>1</td>\n",
       "      <td>2</td>\n",
       "      <td>1</td>\n",
       "      <td>0</td>\n",
       "      <td>1</td>\n",
       "      <td>0</td>\n",
       "      <td>0</td>\n",
       "      <td>0</td>\n",
       "      <td>1</td>\n",
       "      <td>0</td>\n",
       "      <td>3</td>\n",
       "    </tr>\n",
       "  </tbody>\n",
       "</table>\n",
       "</div>"
      ],
      "text/plain": [
       "   age  job  marital  education  default  balance  housing  loan  contact  \\\n",
       "0   58    4        1          2        0     2143        1     0        0   \n",
       "1   44    9        2          1        0       29        1     0        0   \n",
       "2   33    2        1          1        0        2        1     1        0   \n",
       "3   47    1        1          1        0     1506        1     0        0   \n",
       "4   33    1        2          1        0        1        0     0        0   \n",
       "\n",
       "   campaign  previous  poutcome  \n",
       "0         1         0         3  \n",
       "1         1         0         3  \n",
       "2         1         0         3  \n",
       "3         1         0         3  \n",
       "4         1         0         3  "
      ]
     },
     "execution_count": 520,
     "metadata": {},
     "output_type": "execute_result"
    }
   ],
   "source": [
    "# 做 OneHotEncoding\n",
    "from sklearn.preprocessing import LabelEncoder\n",
    "\n",
    "le = LabelEncoder()\n",
    "\n",
    "categorical_columns = X.select_dtypes(include=[\"object\"]).columns\n",
    "numerical_columns = X.select_dtypes(include=[\"int64\", \"float64\"]).columns\n",
    "\n",
    "for col in categorical_columns:\n",
    "    X[col] = le.fit_transform(X[col])\n",
    "\n",
    "X.head()"
   ]
  },
  {
   "cell_type": "markdown",
   "id": "13ca3ceb",
   "metadata": {},
   "source": [
    "### 標準化資料"
   ]
  },
  {
   "cell_type": "code",
   "execution_count": 521,
   "id": "0d009ae3",
   "metadata": {},
   "outputs": [
    {
     "data": {
      "text/plain": [
       "array([ 1.60696496, -0.08521676, -0.27576178,  1.31450664, -0.13548989,\n",
       "        0.25641925,  0.89391541, -0.43680347, -0.26209091, -0.56935064,\n",
       "       -0.25194037,  0.44489814])"
      ]
     },
     "execution_count": 521,
     "metadata": {},
     "output_type": "execute_result"
    }
   ],
   "source": [
    "from sklearn.preprocessing import StandardScaler\n",
    "ss = StandardScaler()\n",
    "\n",
    "scaled_data = ss.fit_transform(X)\n",
    "scaled_data[0]"
   ]
  },
  {
   "cell_type": "markdown",
   "id": "0bf6d061",
   "metadata": {},
   "source": [
    "### Feature Selection"
   ]
  },
  {
   "cell_type": "code",
   "execution_count": 522,
   "id": "f421d939",
   "metadata": {},
   "outputs": [
    {
     "data": {
      "text/plain": [
       "array([[ 0.54674961, -0.09177404, -0.46524287, -0.39895227, -1.10103525,\n",
       "         0.41174588,  0.27839531, -0.0544884 ,  0.73827153,  1.11673907,\n",
       "         1.24003335],\n",
       "       [-0.78251382,  0.74136363, -0.18925188, -0.233543  , -0.28478884,\n",
       "        -0.31238256, -0.84915101, -0.51370305,  0.98750726, -0.96220886,\n",
       "         1.08840602],\n",
       "       [-0.17152453,  0.45925479,  1.96799874,  0.45932416, -0.56050351,\n",
       "         0.17365789, -0.47313664,  1.73591024, -0.04749664,  0.15412507,\n",
       "        -0.37415199],\n",
       "       [ 0.56892692, -0.11978247,  0.82245748, -1.07061932, -0.48405782,\n",
       "        -0.12979074,  0.27415751, -0.12764782,  0.21381004,  0.50783425,\n",
       "         0.36997907],\n",
       "       [-0.59318893,  0.88827072,  0.06168545, -0.70756054,  0.37495737,\n",
       "        -1.33657904, -0.25105282, -0.16619349, -1.45416865,  0.18109487,\n",
       "        -0.0317679 ]])"
      ]
     },
     "execution_count": 522,
     "metadata": {},
     "output_type": "execute_result"
    }
   ],
   "source": [
    "from sklearn.decomposition import PCA\n",
    "pca = PCA(n_components=11)\n",
    "X_pca = pca.fit_transform(scaled_data)\n",
    "X_pca[0:5]"
   ]
  },
  {
   "cell_type": "markdown",
   "id": "85cc1414",
   "metadata": {},
   "source": [
    "### 輸出"
   ]
  },
  {
   "cell_type": "code",
   "execution_count": 523,
   "id": "8c4cc27f",
   "metadata": {},
   "outputs": [
    {
     "name": "stdout",
     "output_type": "stream",
     "text": [
      "\n",
      " 已將處理完成的資料儲存至 feature_select_by_course.csv\n"
     ]
    }
   ],
   "source": [
    "# 將處理好的資料儲存\n",
    "processed_data = pd.DataFrame(X_pca)\n",
    "processed_data[\"y\"] = y.values  # 將目標變數加回來\n",
    "processed_data.to_csv(\n",
    "    \"../../output/week7_hw_data_processing/feature_select_by_course.csv\", index=False\n",
    ")\n",
    "print(\"\\n 已將處理完成的資料儲存至 feature_select_by_course.csv\")"
   ]
  },
  {
   "cell_type": "markdown",
   "id": "15829519",
   "metadata": {},
   "source": [
    "### 預測1. Linear Regression"
   ]
  },
  {
   "cell_type": "code",
   "execution_count": 524,
   "id": "e4996236",
   "metadata": {},
   "outputs": [
    {
     "name": "stdout",
     "output_type": "stream",
     "text": [
      "預測值 [0.04117834 0.12456804 0.10081795 ... 0.20071871 0.07684371 0.07795598]\n",
      "實際值 [0 0 0 ... 0 0 0]\n",
      "r2 socre 0.044311698230257934\n"
     ]
    }
   ],
   "source": [
    "# Linear Rregression\n",
    "\n",
    "from sklearn.model_selection import train_test_split, cross_val_score\n",
    "from sklearn.linear_model import LinearRegression\n",
    "\n",
    "# 讀取前處理後的資料\n",
    "data = pd.read_csv(\"../../output/week7_hw_data_processing/feature_select_by_course.csv\")\n",
    "X = data.drop(columns=[\"y\"]).values\n",
    "y = data[\"y\"].values\n",
    "\n",
    "X_train, X_test, y_train, y_test = train_test_split(\n",
    "    X, y, test_size=0.2, random_state=1000\n",
    ")\n",
    "lr = LinearRegression()\n",
    "lr.fit(X_train, y_train)\n",
    "print(\"預測值\", lr.predict(X_test))\n",
    "print(\"實際值\", y_test)\n",
    "print(\"r2 socre\", lr.score(X_test, y_test))"
   ]
  },
  {
   "cell_type": "code",
   "execution_count": 525,
   "id": "12d2e08e",
   "metadata": {},
   "outputs": [
    {
     "name": "stdout",
     "output_type": "stream",
     "text": [
      "Cross-validation scores: [-0.15680545 -0.22240426 -0.10868851 -0.24134024 -0.09486395 -0.02524609\n",
      " -0.42428487]\n"
     ]
    }
   ],
   "source": [
    "# Linear Regression with k-fold cross validation\n",
    "\n",
    "scores = cross_val_score(lr, X, y, cv=7, scoring=\"r2\")\n",
    "print(\"Cross-validation scores:\", scores)"
   ]
  },
  {
   "cell_type": "code",
   "execution_count": 526,
   "id": "2cbf7a1f",
   "metadata": {},
   "outputs": [
    {
     "name": "stdout",
     "output_type": "stream",
     "text": [
      "Ridge scores 0.04431162150277712\n",
      "Ridge best alpha 1.0\n",
      "Ridge Cross-validation scores: [-0.15680583 -0.22239881 -0.10868483 -0.24133414 -0.09485953 -0.02524472\n",
      " -0.42428612]\n"
     ]
    }
   ],
   "source": [
    "# Ridge Regression\n",
    "from sklearn.linear_model import RidgeCV\n",
    "\n",
    "rgs = RidgeCV(\n",
    "    alphas=(\n",
    "        1.0,\n",
    "        0.5,\n",
    "        0.1,\n",
    "        0.01,\n",
    "    ),\n",
    ")\n",
    "\n",
    "rgs.fit(X_train, y_train)\n",
    "print(\"Ridge scores\", rgs.score(X_test, y_test))\n",
    "print(\"Ridge best alpha\", rgs.alpha_)\n",
    "\n",
    "rg_scores = cross_val_score(rgs, X, y, cv=7, scoring=\"r2\")\n",
    "print(\"Ridge Cross-validation scores:\", rg_scores)"
   ]
  },
  {
   "cell_type": "code",
   "execution_count": 527,
   "id": "19ad8afe",
   "metadata": {},
   "outputs": [
    {
     "name": "stdout",
     "output_type": "stream",
     "text": [
      "Lasso scores 0.036994492386647315\n",
      "Lasso best alpha 0.01\n",
      "Lasso Cross-validation scores: [-0.33565807 -0.16873522 -0.0682399  -0.08575468 -0.00187166 -0.00089073\n",
      " -0.47729064]\n"
     ]
    }
   ],
   "source": [
    "# Lasso Regression\n",
    "\n",
    "from sklearn.linear_model import LassoCV\n",
    "\n",
    "lss = LassoCV(\n",
    "    alphas=(\n",
    "        1.0,\n",
    "        0.5,\n",
    "        0.1,\n",
    "        0.01,\n",
    "    ),\n",
    ")\n",
    "\n",
    "lss.fit(X_train, y_train)\n",
    "print(\"Lasso scores\", lss.score(X_test, y_test))\n",
    "print(\"Lasso best alpha\", lss.alpha_)\n",
    "ls_scores = cross_val_score(lss, X, y, cv=7, scoring=\"r2\")\n",
    "print(\"Lasso Cross-validation scores:\", ls_scores)"
   ]
  },
  {
   "cell_type": "markdown",
   "id": "03efe08e",
   "metadata": {},
   "source": [
    "### 預測2. Polynomial Regression"
   ]
  },
  {
   "cell_type": "code",
   "execution_count": null,
   "id": "b6bed813",
   "metadata": {},
   "outputs": [
    {
     "name": "stdout",
     "output_type": "stream",
     "text": [
      "原始 R²: 0.13023685551649722\n"
     ]
    },
    {
     "name": "stderr",
     "output_type": "stream",
     "text": [
      "c:\\Users\\Finn\\.conda\\envs\\ml_hw\\Lib\\site-packages\\IPython\\core\\pylabtools.py:170: UserWarning: Glyph 29305 (\\N{CJK UNIFIED IDEOGRAPH-7279}) missing from font(s) DejaVu Sans.\n",
      "  fig.canvas.print_figure(bytes_io, **kw)\n",
      "c:\\Users\\Finn\\.conda\\envs\\ml_hw\\Lib\\site-packages\\IPython\\core\\pylabtools.py:170: UserWarning: Glyph 24501 (\\N{CJK UNIFIED IDEOGRAPH-5FB5}) missing from font(s) DejaVu Sans.\n",
      "  fig.canvas.print_figure(bytes_io, **kw)\n",
      "c:\\Users\\Finn\\.conda\\envs\\ml_hw\\Lib\\site-packages\\IPython\\core\\pylabtools.py:170: UserWarning: Glyph 25976 (\\N{CJK UNIFIED IDEOGRAPH-6578}) missing from font(s) DejaVu Sans.\n",
      "  fig.canvas.print_figure(bytes_io, **kw)\n",
      "c:\\Users\\Finn\\.conda\\envs\\ml_hw\\Lib\\site-packages\\IPython\\core\\pylabtools.py:170: UserWarning: Glyph 37327 (\\N{CJK UNIFIED IDEOGRAPH-91CF}) missing from font(s) DejaVu Sans.\n",
      "  fig.canvas.print_figure(bytes_io, **kw)\n"
     ]
    },
    {
     "data": {
      "image/png": "[encoded data removed]",
      "text/plain": [
       "<Figure size 640x480 with 1 Axes>"
      ]
     },
     "metadata": {},
     "output_type": "display_data"
    },
    {
     "name": "stdout",
     "output_type": "stream",
     "text": [
      "篩選後 R²: 0.09154773567220986\n"
     ]
    }
   ],
   "source": [
    "from sklearn.linear_model import LinearRegression\n",
    "from sklearn.preprocessing import PolynomialFeatures\n",
    "from sklearn.feature_selection import SelectFromModel\n",
    "\n",
    "pf = PolynomialFeatures(degree=3)\n",
    "Xp = pf.fit_transform(X)\n",
    "\n",
    "lr = LinearRegression()\n",
    "lr.fit(Xp, y)\n",
    "print(\"原始 R²:\", lr.score(Xp, y))\n",
    "\n",
    "# SelectFromModel 篩選特徵\n",
    "sm = SelectFromModel(lr, threshold=\"median\")\n",
    "Xt = sm.fit_transform(Xp, y)\n",
    "sm.estimator_.score(Xp, y)\n",
    "\n",
    "lr2 = LinearRegression().fit(Xt, y)\n",
    "print(\"篩選後 R²:\", lr2.score(Xt, y))"
   ]
  }
 ],
 "metadata": {
  "kernelspec": {
   "display_name": "ml_hw",
   "language": "python",
   "name": "python3"
  },
  "language_info": {
   "codemirror_mode": {
    "name": "ipython",
    "version": 3
   },
   "file_extension": ".py",
   "mimetype": "text/x-python",
   "name": "python",
   "nbconvert_exporter": "python",
   "pygments_lexer": "ipython3",
   "version": "3.13.7"
  }
 },
 "nbformat": 4,
 "nbformat_minor": 5
}
